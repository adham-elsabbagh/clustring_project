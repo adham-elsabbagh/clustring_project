{
 "cells": [
  {
   "cell_type": "code",
   "execution_count": 1,
   "metadata": {},
   "outputs": [],
   "source": [
    "import numpy as np\n",
    "import pandas as pd\n",
    "import matplotlib.pyplot as plt\n",
    "import seaborn as sns\n",
    "from sklearn.feature_extraction import text\n",
    "from sklearn.feature_extraction.text import TfidfVectorizer\n",
    "from nltk.tokenize import RegexpTokenizer\n",
    "from nltk.stem.snowball import SnowballStemmer\n",
    "\n",
    "\n",
    "# list_of_lists = []\n",
    "\n",
    "# with open('data') as f:\n",
    "#     for line in f:\n",
    "#         inner_list = [line.strip() for line in line.split('\\t')]\n",
    "#         list_of_lists.append(inner_list)\n",
    "\n",
    "# data = pd.DataFrame(list_of_lists)\n",
    "# data['headline_text']=data[0]\n",
    "# data=data.iloc[:,-1]\n",
    "# data.to_csv('data2.csv')\n",
    "# print(data.head())\n",
    "# print(df.info())\n",
    "\n"
   ]
  },
  {
   "cell_type": "code",
   "execution_count": 2,
   "metadata": {},
   "outputs": [
    {
     "name": "stdout",
     "output_type": "stream",
     "text": [
      "                                       headline_text\n",
      "0  Apparent magnitude  is a measure of the bright...\n",
      "1  Alpha Centauri is the closest star system and ...\n",
      "2  American Airlines , Inc . is a major American ...\n",
      "3  Active Directory is a directory service develo...\n",
      "4  Antares  , designated α Scorpii , is on averag...\n",
      "Index(['headline_text'], dtype='object')\n",
      "<class 'pandas.core.frame.DataFrame'>\n",
      "RangeIndex: 5611 entries, 0 to 5610\n",
      "Data columns (total 1 columns):\n",
      " #   Column         Non-Null Count  Dtype \n",
      "---  ------         --------------  ----- \n",
      " 0   headline_text  5611 non-null   object\n",
      "dtypes: object(1)\n",
      "memory usage: 44.0+ KB\n",
      "None\n"
     ]
    }
   ],
   "source": [
    "data=pd.read_csv('data2.csv')\n",
    "print(data.head())\n",
    "print(data.columns)\n",
    "print(data.info())"
   ]
  },
  {
   "cell_type": "code",
   "execution_count": 3,
   "metadata": {},
   "outputs": [
    {
     "data": {
      "text/html": [
       "<div>\n",
       "<style scoped>\n",
       "    .dataframe tbody tr th:only-of-type {\n",
       "        vertical-align: middle;\n",
       "    }\n",
       "\n",
       "    .dataframe tbody tr th {\n",
       "        vertical-align: top;\n",
       "    }\n",
       "\n",
       "    .dataframe thead th {\n",
       "        text-align: right;\n",
       "    }\n",
       "</style>\n",
       "<table border=\"1\" class=\"dataframe\">\n",
       "  <thead>\n",
       "    <tr style=\"text-align: right;\">\n",
       "      <th></th>\n",
       "      <th>headline_text</th>\n",
       "    </tr>\n",
       "  </thead>\n",
       "  <tbody>\n",
       "  </tbody>\n",
       "</table>\n",
       "</div>"
      ],
      "text/plain": [
       "Empty DataFrame\n",
       "Columns: [headline_text]\n",
       "Index: []"
      ]
     },
     "execution_count": 3,
     "metadata": {},
     "output_type": "execute_result"
    }
   ],
   "source": [
    "data[data['headline_text'].duplicated(keep=False)].sort_values('headline_text').head(8)"
   ]
  },
  {
   "cell_type": "code",
   "execution_count": 4,
   "metadata": {},
   "outputs": [],
   "source": [
    "data = data.drop_duplicates('headline_text')"
   ]
  },
  {
   "cell_type": "code",
   "execution_count": 5,
   "metadata": {},
   "outputs": [],
   "source": [
    "punc = ['.', ',', '\"', \"'\", '?', '!', ':', ';', '(', ')', '[', ']', '{', '}',\"%\"]\n",
    "stop_word = text.ENGLISH_STOP_WORDS.union(punc)\n",
    "desc = data['headline_text'].values\n"
   ]
  },
  {
   "cell_type": "code",
   "execution_count": 6,
   "metadata": {},
   "outputs": [],
   "source": [
    "stemmer = SnowballStemmer('english')\n",
    "tokenizer = RegexpTokenizer(r'\\b(?!nbsp\\b)\\w+[a-zA-Z\\']+')\n",
    "\n",
    "def tokenize(text):\n",
    "    return [stemmer.stem(word) for word in tokenizer.tokenize(text.lower())]"
   ]
  },
  {
   "cell_type": "code",
   "execution_count": 7,
   "metadata": {},
   "outputs": [
    {
     "name": "stderr",
     "output_type": "stream",
     "text": [
      "/usr/local/lib/python3.8/dist-packages/sklearn/feature_extraction/text.py:382: UserWarning: Your stop_words may be inconsistent with your preprocessing. Tokenizing the stop words generated tokens ['abov', 'afterward', 'alon', 'alreadi', 'alway', 'ani', 'anoth', 'anyon', 'anyth', 'anywher', 'becam', 'becaus', 'becom', 'befor', 'besid', 'cri', 'describ', 'dure', 'els', 'elsewher', 'empti', 'everi', 'everyon', 'everyth', 'everywher', 'fifti', 'forti', 'henc', 'hereaft', 'herebi', 'howev', 'hundr', 'inde', 'mani', 'meanwhil', 'moreov', 'nobodi', 'noon', 'noth', 'nowher', 'onc', 'onli', 'otherwis', 'ourselv', 'perhap', 'pleas', 'sever', 'sinc', 'sincer', 'sixti', 'someon', 'someth', 'sometim', 'somewher', 'themselv', 'thenc', 'thereaft', 'therebi', 'therefor', 'togeth', 'twelv', 'twenti', 'veri', 'whatev', 'whenc', 'whenev', 'wherea', 'whereaft', 'wherebi', 'wherev', 'whi', 'yourselv'] not in stop_words.\n",
      "  warnings.warn('Your stop_words may be inconsistent with '\n"
     ]
    },
    {
     "name": "stdout",
     "output_type": "stream",
     "text": [
      "[[0.         0.         0.         ... 0.         0.         0.        ]\n",
      " [0.         0.         0.         ... 0.         0.08877759 0.        ]\n",
      " [0.         0.         0.         ... 0.14131583 0.         0.        ]\n",
      " ...\n",
      " [0.         0.         0.         ... 0.         0.02505085 0.        ]\n",
      " [0.         0.         0.         ... 0.         0.05471803 0.        ]\n",
      " [0.         0.         0.         ... 0.         0.         0.        ]]\n",
      "400\n",
      "['abov', 'access', 'accord', 'act', 'activ', 'ad', 'addit', 'administr', 'age', 'agricultur', 'air', 'aircraft', 'airlin', 'airport', 'album', 'allow', 'american', 'ani', 'announc', 'annual', 'anoth', 'appar', 'appear', 'applic', 'approxim', 'april', 'area', 'armi', 'artist', 'associ', 'author', 'avail', 'averag', 'aviat', 'away', 'band', 'bank', 'base', 'basin', 'bay', 'becam', 'becaus', 'becom', 'befor', 'began', 'best', 'billion', 'binari', 'black', 'blue', 'boat', 'border', 'bright', 'british', 'build', 'built', 'busi', 'busiest', 'camp', 'canada', 'capit', 'catalogu', 'caus', 'center', 'centr', 'central', 'centuri', 'chang', 'citi', 'class', 'classif', 'close', 'cluster', 'combin', 'come', 'command', 'commerci', 'common', 'communiti', 'compani', 'companion', 'compil', 'complet', 'compon', 'comput', 'connect', 'consid', 'consist', 'constel', 'construct', 'contain', 'continu', 'control', 'core', 'counti', 'countri', 'cover', 'creat', 'creek', 'cross', 'current', 'dam', 'day', 'depart', 'depth', 'design', 'develop', 'devic', 'differ', 'direct', 'disk', 'distanc', 'distribut', 'district', 'dure', 'dwarf', 'earli', 'earth', 'east', 'eastern', 'effect', 'elev', 'end', 'engin', 'establish', 'estim', 'exist', 'expand', 'eye', 'facil', 'faint', 'fall', 'famili', 'featur', 'feet', 'field', 'file', 'fish', 'flight', 'flood', 'flow', 'follow', 'forc', 'forest', 'form', 'fort', 'french', 'game', 'general', 'generat', 'giant', 'govern', 'great', 'group', 'hd', 'head', 'high', 'highway', 'hill', 'histor', 'hit', 'home', 'hous', 'howev', 'hu', 'hub', 'import', 'includ', 'increas', 'independ', 'indian', 'indic', 'industri', 'inhabit', 'initi', 'instal', 'intern', 'island', 'issu', 'januari', 'john', 'juli', 'june', 'just', 'km', 'known', 'la', 'label', 'lake', 'land', 'larg', 'larger', 'largest', 'late', 'later', 'level', 'lie', 'light', 'like', 'limit', 'line', 'list', 'littl', 'live', 'local', 'locat', 'long', 'low', 'lower', 'luminos', 'magnitud', 'main', 'major', 'make', 'manag', 'mani', 'march', 'market', 'mass', 'maximum', 'mean', 'measur', 'member', 'microsoft', 'mile', 'militari', 'million', 'mountain', 'municip', 'music', 'nake', 'nation', 'natur', 'near', 'nearbi', 'new', 'north', 'northeast', 'northern', 'northwest', 'norway', 'number', 'object', 'observ', 'octob', 'offer', 'offic', 'old', 'onli', 'open', 'oper', 'orbit', 'origin', 'pair', 'parallax', 'park', 'pass', 'passeng', 'peopl', 'perform', 'period', 'photospher', 'place', 'plan', 'point', 'popul', 'popular', 'posit', 'post', 'power', 'present', 'previous', 'primari', 'privat', 'produc', 'product', 'program', 'project', 'protect', 'provid', 'provinc', 'public', 'publish', 'radial', 'radiat', 'radius', 'rang', 'rank', 'rate', 'reach', 'receiv', 'recent', 'record', 'recreat', 'red', 'refer', 'region', 'relat', 'releas', 'remain', 'reserv', 'reservoir', 'resid', 'result', 'river', 'road', 'rock', 'rotat', 'rout', 'run', 'runway', 'san', 'schedul', 'school', 'sea', 'second', 'secondari', 'seen', 'separ', 'septemb', 'sequenc', 'seri', 'serv', 'server', 'servic', 'set', 'sever', 'shift', 'shore', 'sign', 'similar', 'sinc', 'singl', 'site', 'situat', 'size', 'small', 'softwar', 'solar', 'sold', 'song', 'sound', 'sourc', 'south', 'southern', 'speci', 'spectrum', 'st', 'star', 'start', 'state', 'station', 'stellar', 'store', 'studio', 'success', 'summer', 'sun', 'suppli', 'support', 'surfac', 'surround', 'temperatur', 'term', 'termin', 'time', 'today', 'total', 'town', 'track', 'trade', 'trail', 'train', 'type', 'unit', 'univers', 'use', 'user', 'valley', 'variabl', 'various', 'veloc', 'veri', 'version', 'view', 'villag', 'visibl', 'visual', 'war', 'water', 'way', 'west', 'western', 'white', 'wide', 'window', 'work', 'world', 'year', 'york']\n"
     ]
    }
   ],
   "source": [
    "vectorizer = TfidfVectorizer(stop_words = stop_word, tokenizer = tokenize, max_features = 400)\n",
    "x = vectorizer.fit_transform(desc).todense()\n",
    "print(x)\n",
    "words = vectorizer.get_feature_names()\n",
    "print(len(words))\n",
    "print(words)\n"
   ]
  },
  {
   "cell_type": "code",
   "execution_count": 8,
   "metadata": {},
   "outputs": [],
   "source": [
    "# no_topics=5611\n",
    "# nmf = NMF(n_components=no_topics, random_state=1, alpha=.1, l1_ratio=.5, init='nndsvd').fit(x)\n",
    "\n",
    "# def display_topics(model, feature_names, no_top_words):\n",
    "#     for topic_idx, topic in enumerate(model.components_):\n",
    "#         print \"Topic %d:\" % (topic_idx)\n",
    "#         print \" \".join([feature_names[i]\n",
    "#                         for i in topic.argsort()[:-no_top_words - 1:-1]])\n",
    "\n",
    "# no_top_words = 10\n",
    "# display_topics(nmf, words, no_top_words)"
   ]
  },
  {
   "cell_type": "code",
   "execution_count": 9,
   "metadata": {},
   "outputs": [
    {
     "data": {
      "image/png": "[encoded data removed]",
      "text/plain": [
       "<Figure size 432x288 with 1 Axes>"
      ]
     },
     "metadata": {
      "needs_background": "light"
     },
     "output_type": "display_data"
    }
   ],
   "source": [
    "from sklearn.cluster import KMeans\n",
    "wcss = []\n",
    "max_=15\n",
    "for i in range(1,max_):\n",
    "    kmeans = KMeans(n_clusters=i,init='k-means++',max_iter=300,n_init=10,random_state=42,n_jobs=3)\n",
    "    kmeans.fit(x)\n",
    "    wcss.append(kmeans.inertia_)\n",
    "plt.plot(range(1,max_),wcss)\n",
    "plt.title('The Elbow Method')\n",
    "plt.xlabel('Number of clusters')\n",
    "plt.ylabel('WCSS')\n",
    "plt.savefig('elbow.png')\n",
    "plt.show()"
   ]
  },
  {
   "cell_type": "code",
   "execution_count": 10,
   "metadata": {},
   "outputs": [],
   "source": [
    "num_clusters=7\n",
    "kmeans = KMeans(n_clusters = num_clusters, n_init = 10, n_jobs = 3,max_iter=300,random_state=42).fit(x) # n_init(number of iterations for clsutering) n_jobs(number of cpu cores to use)\n",
    "\n",
    "\n",
    "# # We look at 7 the clusters generated by k-means.\n",
    "# common_words = kmeans.cluster_centers_.argsort()[:,-1:-11:-1]\n",
    "# for num, centroid in enumerate(common_words):\n",
    "#     print('Cluster ',str(num) + ' : ' + ', '.join(words[word] for word in centroid))"
   ]
  },
  {
   "cell_type": "code",
   "execution_count": 11,
   "metadata": {},
   "outputs": [
    {
     "name": "stdout",
     "output_type": "stream",
     "text": [
      "Top 10 terms per cluster:\n",
      "Cluster 0: star, sun, magnitud, time, mass, year, constel, veloc, type, orbit\n",
      "Cluster 1: lake, water, dam, river, area, reservoir, fish, park, north, shore\n",
      "Cluster 2: fort, built, site, war, armi, dure, river, histor, post, militari\n",
      "Cluster 3: record, label, releas, music, album, artist, band, produc, includ, group\n",
      "Cluster 4: airport, intern, air, airlin, flight, passeng, aviat, oper, aircraft, servic\n",
      "Cluster 5: municip, popul, town, area, villag, km, state, citi, region, locat\n",
      "Cluster 6: window, microsoft, version, file, softwar, use, support, applic, user, develop\n"
     ]
    }
   ],
   "source": [
    "print(\"Top 10 terms per cluster:\")\n",
    "order_centroids = kmeans.cluster_centers_.argsort()[:, ::-1]\n",
    "for i in range(num_clusters):\n",
    "    top_ten_words = [words[ind] for ind in order_centroids[i, :10]]\n",
    "    print(\"Cluster {}: {}\".format(i, ', '.join(top_ten_words)))"
   ]
  },
  {
   "cell_type": "code",
   "execution_count": null,
   "metadata": {},
   "outputs": [],
   "source": []
  },
  {
   "cell_type": "code",
   "execution_count": null,
   "metadata": {},
   "outputs": [],
   "source": []
  },
  {
   "cell_type": "code",
   "execution_count": 12,
   "metadata": {},
   "outputs": [],
   "source": [
    "# y_kmeans = kmeans.predict(x)\n",
    "# print(y_kmeans)\n",
    "# data['clusters']=y_kmeans\n",
    "# data.head()\n",
    "\n",
    "labels = kmeans.labels_ \n",
    "data['label'] = labels\n",
    "with open('cluster.txt','w')as f:\n",
    "    f.write(data['label'].to_string(header = False, index = False))"
   ]
  },
  {
   "cell_type": "code",
   "execution_count": 13,
   "metadata": {},
   "outputs": [],
   "source": [
    "# from sklearn.metrics import silhouette_score\n",
    "# silhouette_score(x, y_kmeans)"
   ]
  },
  {
   "cell_type": "code",
   "execution_count": 14,
   "metadata": {},
   "outputs": [
    {
     "data": {
      "text/html": [
       "<div>\n",
       "<style scoped>\n",
       "    .dataframe tbody tr th:only-of-type {\n",
       "        vertical-align: middle;\n",
       "    }\n",
       "\n",
       "    .dataframe tbody tr th {\n",
       "        vertical-align: top;\n",
       "    }\n",
       "\n",
       "    .dataframe thead th {\n",
       "        text-align: right;\n",
       "    }\n",
       "</style>\n",
       "<table border=\"1\" class=\"dataframe\">\n",
       "  <thead>\n",
       "    <tr style=\"text-align: right;\">\n",
       "      <th></th>\n",
       "      <th>headline_text</th>\n",
       "      <th>label</th>\n",
       "    </tr>\n",
       "  </thead>\n",
       "  <tbody>\n",
       "    <tr>\n",
       "      <th>0</th>\n",
       "      <td>Apparent magnitude  is a measure of the bright...</td>\n",
       "      <td>0</td>\n",
       "    </tr>\n",
       "    <tr>\n",
       "      <th>1</th>\n",
       "      <td>Alpha Centauri is the closest star system and ...</td>\n",
       "      <td>0</td>\n",
       "    </tr>\n",
       "    <tr>\n",
       "      <th>2</th>\n",
       "      <td>American Airlines , Inc . is a major American ...</td>\n",
       "      <td>2</td>\n",
       "    </tr>\n",
       "    <tr>\n",
       "      <th>3</th>\n",
       "      <td>Active Directory is a directory service develo...</td>\n",
       "      <td>6</td>\n",
       "    </tr>\n",
       "    <tr>\n",
       "      <th>4</th>\n",
       "      <td>Antares  , designated α Scorpii , is on averag...</td>\n",
       "      <td>0</td>\n",
       "    </tr>\n",
       "    <tr>\n",
       "      <th>5</th>\n",
       "      <td>Altair  , designation α&amp;nbsp ;Aquilae , is the...</td>\n",
       "      <td>0</td>\n",
       "    </tr>\n",
       "    <tr>\n",
       "      <th>6</th>\n",
       "      <td>Barnards Star  is a red dwarf about 6 light-ye...</td>\n",
       "      <td>0</td>\n",
       "    </tr>\n",
       "    <tr>\n",
       "      <th>7</th>\n",
       "      <td>BeOS is an operating system for personal compu...</td>\n",
       "      <td>6</td>\n",
       "    </tr>\n",
       "    <tr>\n",
       "      <th>8</th>\n",
       "      <td>Canis Major  is a constellation in the souther...</td>\n",
       "      <td>0</td>\n",
       "    </tr>\n",
       "    <tr>\n",
       "      <th>9</th>\n",
       "      <td>Canis Minor  is a small constellation in the n...</td>\n",
       "      <td>0</td>\n",
       "    </tr>\n",
       "  </tbody>\n",
       "</table>\n",
       "</div>"
      ],
      "text/plain": [
       "                                       headline_text  label\n",
       "0  Apparent magnitude  is a measure of the bright...      0\n",
       "1  Alpha Centauri is the closest star system and ...      0\n",
       "2  American Airlines , Inc . is a major American ...      2\n",
       "3  Active Directory is a directory service develo...      6\n",
       "4  Antares  , designated α Scorpii , is on averag...      0\n",
       "5  Altair  , designation α&nbsp ;Aquilae , is the...      0\n",
       "6  Barnards Star  is a red dwarf about 6 light-ye...      0\n",
       "7  BeOS is an operating system for personal compu...      6\n",
       "8  Canis Major  is a constellation in the souther...      0\n",
       "9  Canis Minor  is a small constellation in the n...      0"
      ]
     },
     "execution_count": 14,
     "metadata": {},
     "output_type": "execute_result"
    }
   ],
   "source": [
    "data.head(10)"
   ]
  },
  {
   "cell_type": "code",
   "execution_count": 16,
   "metadata": {},
   "outputs": [
    {
     "data": {
      "text/plain": [
       "array([[ 0.00000000e+00,  7.60584060e-01,  9.83377068e-01, ...,\n",
       "         9.90841087e-01,  1.00000000e+00,  9.84803301e-01],\n",
       "       [ 7.60584060e-01,  0.00000000e+00,  9.91893382e-01, ...,\n",
       "         9.93076098e-01,  9.95142265e-01,  9.87701285e-01],\n",
       "       [ 9.83377068e-01,  9.91893382e-01,  2.22044605e-16, ...,\n",
       "         9.44842619e-01,  9.06363768e-01,  9.92819510e-01],\n",
       "       ...,\n",
       "       [ 9.90841087e-01,  9.93076098e-01,  9.44842619e-01, ...,\n",
       "         2.22044605e-16,  9.11833781e-01,  3.93935165e-01],\n",
       "       [ 1.00000000e+00,  9.95142265e-01,  9.06363768e-01, ...,\n",
       "         9.11833781e-01,  0.00000000e+00,  9.83871833e-01],\n",
       "       [ 9.84803301e-01,  9.87701285e-01,  9.92819510e-01, ...,\n",
       "         3.93935165e-01,  9.83871833e-01, -2.22044605e-16]])"
      ]
     },
     "execution_count": 16,
     "metadata": {},
     "output_type": "execute_result"
    }
   ],
   "source": [
    "dist = 1 - cosine_similarity(x)\n",
    "dist"
   ]
  },
  {
   "cell_type": "code",
   "execution_count": null,
   "metadata": {},
   "outputs": [],
   "source": []
  }
 ],
 "metadata": {
  "kernelspec": {
   "display_name": "Python 3",
   "language": "python",
   "name": "python3"
  },
  "language_info": {
   "codemirror_mode": {
    "name": "ipython",
    "version": 3
   },
   "file_extension": ".py",
   "mimetype": "text/x-python",
   "name": "python",
   "nbconvert_exporter": "python",
   "pygments_lexer": "ipython3",
   "version": "3.8.2"
  }
 },
 "nbformat": 4,
 "nbformat_minor": 4
}
